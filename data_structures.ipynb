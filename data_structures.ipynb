{
 "cells": [
  {
   "cell_type": "markdown",
   "metadata": {},
   "source": [
    "# Linked list"
   ]
  },
  {
   "cell_type": "code",
   "execution_count": 2,
   "metadata": {},
   "outputs": [
    {
     "name": "stdout",
     "output_type": "stream",
     "text": [
      "5\n"
     ]
    }
   ],
   "source": [
    "class Node(object):\n",
    "    def __init__(self, value=None):\n",
    "        self.value = value\n",
    "        self.next = None\n",
    "\n",
    "n1 = Node(4)\n",
    "n2 = Node(5)\n",
    "n1.next = n2\n",
    "print n1.next.value"
   ]
  },
  {
   "cell_type": "code",
   "execution_count": 3,
   "metadata": {},
   "outputs": [
    {
     "name": "stdout",
     "output_type": "stream",
     "text": [
      "after append:\n",
      "1.0\n",
      "1.0\n",
      "2.0\n",
      "1.0\n",
      "3.0\n",
      "after deletion:\n",
      "1.0\n",
      "2.0\n",
      "1.0\n",
      "3.0\n"
     ]
    }
   ],
   "source": [
    "class LinkedList(object):\n",
    "\n",
    "    def __init__(self, head=None):\n",
    "        head = Node(head)\n",
    "        self.head = head\n",
    "\n",
    "    def append(self, value):\n",
    "        new = Node(value)\n",
    "        current = self.head\n",
    "        if self.head:\n",
    "            while current.next != None:\n",
    "                current = current.next\n",
    "            current.next = new\n",
    "        else:\n",
    "            self.head = new\n",
    "    \n",
    "    def printl(self):\n",
    "        l = []\n",
    "        current = self.head\n",
    "        while current.next != None:\n",
    "            print current.value\n",
    "            current = current.next\n",
    "        print current.value\n",
    "    \n",
    "\n",
    "    def delete(self, val):\n",
    "        current = self.head\n",
    "        # if the value is in head\n",
    "        if current.value == val:\n",
    "            self.head = self.head.next\n",
    "        # while not at the tail and haven't found the value\n",
    "        while current.next != None:\n",
    "            if current.next.value != val:\n",
    "                current = current.next\n",
    "            else:\n",
    "                current.next = current.next.next\n",
    "                break\n",
    "    \n",
    "    def insert(self, val, i):\n",
    "        current = self.head\n",
    "        counter = 0\n",
    "        while counter < i:\n",
    "            counter += 1\n",
    "            current = current.next\n",
    "        temp = \n",
    "        current.\n",
    "\n",
    "\n",
    "\n",
    "        \n",
    "l = LinkedList(1.0)\n",
    "l.append(1.0)\n",
    "l.append(2.0)\n",
    "l.append(1.0)\n",
    "l.append(3.0)\n",
    "print \"after append:\"\n",
    "l.printl()\n",
    "l.delete(1.0)\n",
    "print \"after deletion:\"\n",
    "l.printl()"
   ]
  },
  {
   "cell_type": "markdown",
   "metadata": {},
   "source": [
    "# Circular linked list"
   ]
  },
  {
   "cell_type": "markdown",
   "metadata": {},
   "source": [
    "# Doubly linked list"
   ]
  },
  {
   "cell_type": "markdown",
   "metadata": {},
   "source": [
    "# Stack / linked list"
   ]
  },
  {
   "cell_type": "code",
   "execution_count": 36,
   "metadata": {
    "collapsed": true,
    "jupyter": {
     "outputs_hidden": true
    }
   },
   "outputs": [],
   "source": [
    "class Node(object):\n",
    "    def __init__(self, value=None):\n",
    "        self.value = value\n",
    "        self.next = None\n",
    "\n",
    "class Stack(object):\n",
    "    def __init__(self, head):\n",
    "        self.head = head\n",
    "    \n",
    "    def push(self, newnode):\n",
    "        if self.head is not None:\n",
    "            current = self.head\n",
    "            while current.next != None:\n",
    "                current = current.next\n",
    "            current.next = newnode\n",
    "        else:\n",
    "            self.head = newnode\n",
    "    \n",
    "    def pop(self):\n",
    "        res = None\n",
    "        current = self.head\n",
    "        while current.next.next != None:\n",
    "            current = current.next\n",
    "        res = current.next.value\n",
    "        current.next = None\n",
    "        return res\n",
    "        \n",
    "    def traverse(self, head):\n",
    "        path = []\n",
    "        current = self.head\n",
    "        while current != None:\n",
    "            path.append(current.value)\n",
    "            current = current.next\n",
    "        return path"
   ]
  },
  {
   "cell_type": "code",
   "execution_count": 37,
   "metadata": {},
   "outputs": [
    {
     "name": "stdout",
     "output_type": "stream",
     "text": [
      "[4, 5, 6]\n",
      "6\n",
      "[4, 5]\n"
     ]
    }
   ],
   "source": [
    "n1 = Node(4)\n",
    "n2 = Node(5)\n",
    "n3 = Node(6)\n",
    "s = Stack(n1)\n",
    "s.push(n2)\n",
    "s.push(n3)\n",
    "print s.traverse(n1)\n",
    "print s.pop()\n",
    "print s.traverse(n1)"
   ]
  },
  {
   "cell_type": "markdown",
   "metadata": {},
   "source": [
    "# Stack / python List"
   ]
  },
  {
   "cell_type": "code",
   "execution_count": 3,
   "metadata": {},
   "outputs": [],
   "source": [
    "class Stack(object):\n",
    "    \"\"\" LIFO \"\"\"\n",
    "    def __init__(self):\n",
    "        self.list = []\n",
    "\n",
    "    def push(self, value):\n",
    "        self.list.append(value)\n",
    "    \n",
    "    def pop(self):\n",
    "        return(self.list.pop())\n",
    "    \n",
    "    def is_empty(self):\n",
    "        return(len(self.list)==0)"
   ]
  },
  {
   "cell_type": "code",
   "execution_count": 5,
   "metadata": {},
   "outputs": [
    {
     "name": "stdout",
     "output_type": "stream",
     "text": [
      "2\n",
      "False\n",
      "1\n",
      "True\n"
     ]
    }
   ],
   "source": [
    "s = Stack()\n",
    "s.push(1)\n",
    "s.push(2)\n",
    "print(s.pop())\n",
    "print(s.is_empty())\n",
    "print(s.pop())\n",
    "print(s.is_empty())"
   ]
  },
  {
   "cell_type": "markdown",
   "metadata": {},
   "source": [
    "# Queue"
   ]
  },
  {
   "cell_type": "code",
   "execution_count": null,
   "metadata": {},
   "outputs": [],
   "source": [
    "class Node(object):\n",
    "    def __init__(self, value=None):\n",
    "        self.value = value\n",
    "        self.next = None\n",
    "\n",
    "class Stack(object):\n",
    "    def __init__(self, head):\n",
    "        self.head = head\n",
    "    \n",
    "    def enqueue(self, node):\n",
    "        current = self.head"
   ]
  },
  {
   "cell_type": "markdown",
   "metadata": {},
   "source": [
    "# Queue / python List"
   ]
  },
  {
   "cell_type": "code",
   "execution_count": 6,
   "metadata": {},
   "outputs": [],
   "source": [
    "class Queue(object):\n",
    "    \"\"\" FIFO \"\"\"\n",
    "    def __init__(self):\n",
    "        self.list = []\n",
    "    \n",
    "    def push(self, value):\n",
    "        self.list.insert(0, value)\n",
    "    \n",
    "    def pop(self):\n",
    "        return(self.list.pop())\n",
    "\n",
    "    def is_empty(self):\n",
    "        return(len(self.list)==0)"
   ]
  },
  {
   "cell_type": "code",
   "execution_count": 9,
   "metadata": {},
   "outputs": [
    {
     "name": "stdout",
     "output_type": "stream",
     "text": [
      "0\n",
      "False\n",
      "1\n",
      "True\n"
     ]
    }
   ],
   "source": [
    "q = Queue()\n",
    "q.push(0)\n",
    "q.push(1)\n",
    "print(q.pop())\n",
    "print(q.is_empty())\n",
    "print(q.pop())\n",
    "print(q.is_empty())"
   ]
  },
  {
   "cell_type": "markdown",
   "metadata": {},
   "source": [
    "# Hash Table"
   ]
  },
  {
   "cell_type": "code",
   "execution_count": 41,
   "metadata": {
    "collapsed": true,
    "jupyter": {
     "outputs_hidden": true
    }
   },
   "outputs": [],
   "source": [
    "class HashTable(object):\n",
    "    def __init__(self, size=100):\n",
    "        self.size = size\n",
    "        self.table = [None]*self.size\n",
    "\n",
    "    def store(self, string):\n",
    "        hv = self.compute_hash(string)\n",
    "        if self.table[hv] == None:\n",
    "            self.table[hv] = [string]\n",
    "        else:\n",
    "            self.table[hv].append(string)\n",
    "            \n",
    "    def look_up(self, string):\n",
    "        hv = self.compute_hash(string)\n",
    "        if self.table[hv] != None:\n",
    "            if string in self.table[hv]:\n",
    "                return string\n",
    "        else:\n",
    "            return -1\n",
    "    \n",
    "    def compute_hash(self, string):\n",
    "        hv = ord(string[0]) * 100 + ord(string[1])\n",
    "        print hv\n",
    "        # map hash value to array index\n",
    "        hv = hv % self.size\n",
    "        return hv"
   ]
  },
  {
   "cell_type": "code",
   "execution_count": 42,
   "metadata": {},
   "outputs": [
    {
     "name": "stdout",
     "output_type": "stream",
     "text": [
      "9798\n",
      "9897\n",
      "9798\n",
      "9798\n"
     ]
    },
    {
     "data": {
      "text/plain": [
       "'ab'"
      ]
     },
     "execution_count": 42,
     "metadata": {},
     "output_type": "execute_result"
    }
   ],
   "source": [
    "h = HashTable()\n",
    "h.store(\"ab\")\n",
    "h.store(\"ba\")\n",
    "h.store(\"abc\")\n",
    "h.look_up(\"ab\")"
   ]
  },
  {
   "cell_type": "markdown",
   "metadata": {},
   "source": [
    "# Binary Search Tree"
   ]
  },
  {
   "cell_type": "code",
   "execution_count": 57,
   "metadata": {
    "collapsed": true,
    "jupyter": {
     "outputs_hidden": true
    }
   },
   "outputs": [],
   "source": [
    "class Node(object):\n",
    "    def __init__(self, value=None):\n",
    "        self.value = value\n",
    "        self.left = None\n",
    "        self.right = None\n",
    "        \n",
    "class BST(object):\n",
    "    def __init__(self, node=None):\n",
    "        self.root = node\n",
    "        self.path = []\n",
    "    \n",
    "    def insert(self, current, newnode):\n",
    "        if newnode.value > current.value:\n",
    "            if current.right:\n",
    "                self.insert(current.right, newnode)\n",
    "            else:\n",
    "                current.right = newnode\n",
    "        else:\n",
    "            if current.left:\n",
    "                self.insert(current.left, newnode)\n",
    "            else:\n",
    "                current.left = newnode\n",
    "    \n",
    "    def in_order_traversal(self, current):\n",
    "        if current is not None:\n",
    "            self.in_order_traversal(current.left)\n",
    "            self.path.append(current.value)\n",
    "            self.in_order_traversal(current.right)\n",
    "        return self.path\n",
    "    \n",
    "    def pre_order_traversal(self, current):\n",
    "        if current is None:\n",
    "            return\n",
    "        self.path.append(current.value)\n",
    "        self.pre_order_traversal(current.left)\n",
    "        self.pre_order_traversal(current.right)\n",
    "        return self.path\n",
    "    \n",
    "    def search(self, current, value):\n",
    "        if current:\n",
    "            if current.value == value:\n",
    "                return True\n",
    "            elif value < current.value:\n",
    "                self.search(current.left, value)\n",
    "            else:\n",
    "                self.search(current.right, value)\n",
    "    \n",
    "    def minimum(self, current):\n",
    "        while current.left != None:\n",
    "            current = current.left\n",
    "        return current.value\n",
    "    \n",
    "    def successor(self, current):\n",
    "        pass\n",
    "            \n",
    "\n",
    "    "
   ]
  },
  {
   "cell_type": "code",
   "execution_count": 58,
   "metadata": {},
   "outputs": [
    {
     "name": "stdout",
     "output_type": "stream",
     "text": [
      "[4, 1, -12, 3, 5, 9]\n",
      "traversal: [4, 1, -12, 3, 5, 9, -12, 1, 3, 4, 5, 9]\n",
      "-12\n",
      "None\n"
     ]
    }
   ],
   "source": [
    "n1 = Node(4)\n",
    "n2 = Node(5)\n",
    "n3 = Node(1)\n",
    "n5 = Node(9)\n",
    "n6 = Node(-12)\n",
    "n7 = Node(3)\n",
    "bst = BST()\n",
    "bst.insert(n1, n2)\n",
    "bst.insert(n1, n3)\n",
    "bst.insert(n1, n5)\n",
    "bst.insert(n1, n6)\n",
    "bst.insert(n1, n7)\n",
    "\n",
    "print bst.pre_order_traversal(n1)\n",
    "print \"traversal:\", bst.in_order_traversal(n1)\n",
    "print bst.minimum(n1)\n",
    "print bst.successor(n1)\n",
    "# print \"traversal:\", bst.in_order_traversal(n1)\n",
    "# print bst.search(n1, 1)\n",
    "# print bst.search(n1, 3)\n",
    "\n",
    "# bst.find_larger_smaller(n1, 3)"
   ]
  },
  {
   "cell_type": "markdown",
   "metadata": {},
   "source": [
    "# Priority Queue w/ python's heapq\n",
    "- represented as a tree but implement as an array"
   ]
  },
  {
   "cell_type": "code",
   "execution_count": 38,
   "metadata": {},
   "outputs": [
    {
     "name": "stdout",
     "output_type": "stream",
     "text": [
      "[6, 2, 8, 1, 0, 3, 5, 7, 4, 9]\n",
      "[0, 1, 3, 4, 2, 8, 5, 7, 6, 9]\n",
      "0\n",
      "[1, 2, 3, 4, 9, 8, 5, 7, 6]\n",
      "1\n",
      "[2, 4, 3, 6, 9, 8, 5, 7]\n",
      "2\n",
      "[3, 4, 5, 6, 9, 8, 7]\n",
      "3\n",
      "[4, 6, 5, 7, 9, 8]\n",
      "4\n",
      "[5, 6, 8, 7, 9]\n",
      "5\n",
      "[6, 7, 8, 9]\n",
      "6\n",
      "[7, 9, 8]\n",
      "7\n",
      "[8, 9]\n",
      "8\n",
      "[9]\n",
      "9\n",
      "[]\n",
      "[-1, 1, 0, 9, 2, 5, 10]\n",
      "-1\n",
      "[0, 1, 5, 9, 2, 10]\n"
     ]
    }
   ],
   "source": [
    "import heapq as hq\n",
    "from random import shuffle\n",
    "data = list(range(10))\n",
    "shuffle(data)\n",
    "print(data)\n",
    "hq.heapify(data)\n",
    "print(data)\n",
    "# heap = []\n",
    "# for n in data:\n",
    "#     heapq.heappush(heap,n)\n",
    "for i in range(len(data)):\n",
    "    print(hq.heappop(data))\n",
    "    print(data)\n",
    "for i in [9,5,2,0,1,-1,10]:\n",
    "    hq.heappush(data, i)\n",
    "print(data)\n",
    "print(hq.heappop(data))\n",
    "print(data)"
   ]
  },
  {
   "cell_type": "code",
   "execution_count": 26,
   "metadata": {},
   "outputs": [
    {
     "data": {
      "text/plain": [
       "[0, 1, 2, 3, 4]"
      ]
     },
     "execution_count": 26,
     "metadata": {},
     "output_type": "execute_result"
    }
   ],
   "source": [
    "list(range(5))"
   ]
  },
  {
   "cell_type": "code",
   "execution_count": 43,
   "metadata": {},
   "outputs": [
    {
     "name": "stdout",
     "output_type": "stream",
     "text": [
      "[(1, 'Anish'), (2, 'cathy'), (3, 'Moana'), (5, 'Rina'), (4, 'Lucy')]\n",
      "(1, 'Anish')\n",
      "(2, 'cathy')\n",
      "(3, 'Moana')\n",
      "(4, 'Lucy')\n",
      "(5, 'Rina')\n"
     ]
    }
   ],
   "source": [
    "priority_list = [(5,'Rina'),(1,'Anish'),(3,'Moana'),(2,'cathy'),(4,'Lucy')] \n",
    "hq.heapify(priority_list)\n",
    "print(priority_list)\n",
    "for i in range(len(priority_list)):\n",
    "    print(hq.heappop(priority_list))"
   ]
  },
  {
   "cell_type": "code",
   "execution_count": 12,
   "metadata": {},
   "outputs": [],
   "source": [
    "class Heap(object):\n",
    "    def __init__(self):\n",
    "        self.root = root\n",
    "    \n",
    "    def right(i):\n",
    "        return i*2 +1\n",
    "\n",
    "    def left(i):\n",
    "        return i*2\n",
    "\n",
    "    def parent(i):\n",
    "        return i//2\n",
    "    "
   ]
  },
  {
   "cell_type": "code",
   "execution_count": 13,
   "metadata": {},
   "outputs": [
    {
     "ename": "NameError",
     "evalue": "name 'root' is not defined",
     "output_type": "error",
     "traceback": [
      "\u001b[0;31m---------------------------------------------------------------------------\u001b[0m",
      "\u001b[0;31mNameError\u001b[0m                                 Traceback (most recent call last)",
      "\u001b[0;32m<ipython-input-13-206e4db550a9>\u001b[0m in \u001b[0;36m<module>\u001b[0;34m\u001b[0m\n\u001b[0;32m----> 1\u001b[0;31m \u001b[0mh\u001b[0m \u001b[0;34m=\u001b[0m \u001b[0mHeap\u001b[0m\u001b[0;34m(\u001b[0m\u001b[0;34m)\u001b[0m\u001b[0;34m\u001b[0m\u001b[0;34m\u001b[0m\u001b[0m\n\u001b[0m",
      "\u001b[0;32m<ipython-input-12-0f80c9f54377>\u001b[0m in \u001b[0;36m__init__\u001b[0;34m(self)\u001b[0m\n\u001b[1;32m      1\u001b[0m \u001b[0;32mclass\u001b[0m \u001b[0mHeap\u001b[0m\u001b[0;34m(\u001b[0m\u001b[0mobject\u001b[0m\u001b[0;34m)\u001b[0m\u001b[0;34m:\u001b[0m\u001b[0;34m\u001b[0m\u001b[0;34m\u001b[0m\u001b[0m\n\u001b[1;32m      2\u001b[0m     \u001b[0;32mdef\u001b[0m \u001b[0m__init__\u001b[0m\u001b[0;34m(\u001b[0m\u001b[0mself\u001b[0m\u001b[0;34m)\u001b[0m\u001b[0;34m:\u001b[0m\u001b[0;34m\u001b[0m\u001b[0;34m\u001b[0m\u001b[0m\n\u001b[0;32m----> 3\u001b[0;31m         \u001b[0mself\u001b[0m\u001b[0;34m.\u001b[0m\u001b[0mroot\u001b[0m \u001b[0;34m=\u001b[0m \u001b[0mroot\u001b[0m\u001b[0;34m\u001b[0m\u001b[0;34m\u001b[0m\u001b[0m\n\u001b[0m\u001b[1;32m      4\u001b[0m \u001b[0;34m\u001b[0m\u001b[0m\n\u001b[1;32m      5\u001b[0m     \u001b[0;32mdef\u001b[0m \u001b[0mright\u001b[0m\u001b[0;34m(\u001b[0m\u001b[0mi\u001b[0m\u001b[0;34m)\u001b[0m\u001b[0;34m:\u001b[0m\u001b[0;34m\u001b[0m\u001b[0;34m\u001b[0m\u001b[0m\n",
      "\u001b[0;31mNameError\u001b[0m: name 'root' is not defined"
     ]
    }
   ],
   "source": []
  },
  {
   "cell_type": "markdown",
   "metadata": {},
   "source": [
    "# Tries"
   ]
  },
  {
   "cell_type": "code",
   "execution_count": null,
   "metadata": {
    "collapsed": true,
    "jupyter": {
     "outputs_hidden": true
    }
   },
   "outputs": [],
   "source": []
  },
  {
   "cell_type": "markdown",
   "metadata": {},
   "source": [
    "# Graph"
   ]
  },
  {
   "cell_type": "markdown",
   "metadata": {},
   "source": [
    "- DFS implementation uses a Stack\n",
    "- BFS implementation uses a Queue"
   ]
  },
  {
   "cell_type": "code",
   "execution_count": 1,
   "metadata": {
    "collapsed": true,
    "jupyter": {
     "outputs_hidden": true
    }
   },
   "outputs": [],
   "source": [
    "class Node(object):\n",
    "    def __init__(self, value):\n",
    "        self.value = value\n",
    "        self.edges = []\n",
    "        self.visited = False\n",
    "        \n",
    "class Edge(object):\n",
    "    def __init__(self, value, node_from, node_to):\n",
    "        self.value = value\n",
    "        self.node_from = node_from\n",
    "        self.node_to = node_to\n",
    "\n",
    "class Graph(object):\n",
    "    def __init__(self, nodes=[], edges=[]):\n",
    "        self.nodes = nodes\n",
    "        self.edges = edges\n",
    "        # associate node value (=key) to actual node (value)\n",
    "        self._node_map = {}\n",
    "    \n",
    "    def insert_node(self, newnode):\n",
    "        self.nodes.append(newnode)\n",
    "    \n",
    "    def insert_edge(self, new_edge_val, node_from_val, node_to_val):\n",
    "        from_found = None\n",
    "        to_found = None\n",
    "        for node in self.nodes:\n",
    "            if node_from_val == node.value:\n",
    "                from_found = node\n",
    "            if node_to_val == node.value:\n",
    "                to_found = node\n",
    "        if from_found == None:\n",
    "            from_found = Node(node_from_val)\n",
    "            self.nodes.append(from_found)\n",
    "        if from_found == None:\n",
    "            to_found = Node(node_to_val)\n",
    "            self.nodes.append(to_found)\n",
    "        \n",
    "        new_edge = Edge(new_edge_val, from_found, to_found)\n",
    "        from_found.edges.append(new_edge)\n",
    "        to_found.edges.append(new_edge)\n",
    "        self.edges.append(new_edge)\n",
    "    \n",
    "    def DFS(self):\n",
    "        # Stack (or recursive)\n",
    "        pass\n",
    "    \n",
    "    def BFS(self):\n",
    "        # Queue\n",
    "        pass"
   ]
  },
  {
   "cell_type": "code",
   "execution_count": 2,
   "metadata": {},
   "outputs": [
    {
     "name": "stdout",
     "output_type": "stream",
     "text": [
      "3 4 5\n",
      "1 4 1\n",
      "4 4 5\n"
     ]
    }
   ],
   "source": [
    "n1 = Node(4)\n",
    "n2 = Node(5)\n",
    "n3 = Node(1)\n",
    "n4 = Node(9)\n",
    "n5 = Node(-12)\n",
    "e1 = Edge(3, n1, n2)\n",
    "e2 = Edge(1, n1, n3)\n",
    "g = Graph([n1,n2,n3], [e1,e2])\n",
    "g.insert_node(n4)\n",
    "g.insert_edge(4, 4, 5)\n",
    "for edge in g.edges:\n",
    "    print edge.value, edge.node_from.value, edge.node_to.value"
   ]
  },
  {
   "cell_type": "markdown",
   "metadata": {},
   "source": [
    "### Depth First search"
   ]
  },
  {
   "cell_type": "code",
   "execution_count": 16,
   "metadata": {},
   "outputs": [
    {
     "name": "stdout",
     "output_type": "stream",
     "text": [
      "IGRAPH D--- 12 11 -- \n",
      "+ attr: label (v)\n"
     ]
    }
   ],
   "source": [
    "# import igraph as ig\n",
    "# g = ig.Graph(n = 12, directed=True)\n",
    "# g.add_edges([(1,0),(2,1), (3,2), (4,3),\n",
    "#              (5,1),\n",
    "#              (6,2), (7,6), (8,7),\n",
    "#              (9,0),\n",
    "#              (10,0), (11,10)])\n",
    "# g.vs[\"label\"] = [\"A\", \"B\", \"A\", \"B\", \"C\", \"F\", \"C\", \"B\", \"D\", \"C\", \"D\", \"F\"]\n",
    "# layout = g.layout_reingold_tilford(root=[2])\n",
    "# ig.summary(g)\n",
    "\n",
    "# # ig.plot(g, layout=layout)"
   ]
  },
  {
   "cell_type": "code",
   "execution_count": 17,
   "metadata": {
    "collapsed": true,
    "jupyter": {
     "outputs_hidden": true
    }
   },
   "outputs": [],
   "source": [
    "graph = {'A': set(['B', 'C']),\n",
    "         'B': set(['A', 'D', 'E']),\n",
    "         'C': set(['A', 'F']),\n",
    "         'D': set(['B']),\n",
    "         'E': set(['B', 'F']),\n",
    "         'F': set(['C', 'E'])}"
   ]
  },
  {
   "cell_type": "code",
   "execution_count": 18,
   "metadata": {
    "collapsed": true,
    "jupyter": {
     "outputs_hidden": true
    }
   },
   "outputs": [],
   "source": [
    "def dfs(graph, root, visited):\n",
    "    if root in visited:\n",
    "        return\n",
    "    visited.append(root)\n",
    "    for node in graph[root]:\n",
    "        if node not in visited:\n",
    "            dfs(graph, node, visited)\n",
    "    return visited"
   ]
  },
  {
   "cell_type": "code",
   "execution_count": 44,
   "metadata": {},
   "outputs": [
    {
     "name": "stdout",
     "output_type": "stream",
     "text": [
      "['A', 'C', 'F', 'E', 'B', 'D']\n"
     ]
    }
   ],
   "source": [
    "print dfs(graph, 'A', [])"
   ]
  },
  {
   "cell_type": "code",
   "execution_count": 17,
   "metadata": {
    "collapsed": true,
    "jupyter": {
     "outputs_hidden": true
    }
   },
   "outputs": [],
   "source": [
    "def dfs_stack(graph, root):\n",
    "    visited = []\n",
    "    stack = [root]\n",
    "    while stack:\n",
    "        current = stack.pop()\n",
    "        if current not in visited:\n",
    "            visited.append(current)\n",
    "            for node in graph[current]:\n",
    "                if node not in visited:\n",
    "                    stack.append(node)\n",
    "    return visited"
   ]
  },
  {
   "cell_type": "code",
   "execution_count": 18,
   "metadata": {},
   "outputs": [
    {
     "data": {
      "text/plain": [
       "['A', 'B', 'D', 'E', 'F', 'C']"
      ]
     },
     "execution_count": 18,
     "metadata": {},
     "output_type": "execute_result"
    }
   ],
   "source": [
    "dfs_stack(graph, 'A')"
   ]
  },
  {
   "cell_type": "markdown",
   "metadata": {},
   "source": [
    "### Breadth first search"
   ]
  },
  {
   "cell_type": "code",
   "execution_count": 70,
   "metadata": {
    "collapsed": true,
    "jupyter": {
     "outputs_hidden": true
    }
   },
   "outputs": [],
   "source": [
    "def bfs(graph, root):\n",
    "    pass"
   ]
  },
  {
   "cell_type": "code",
   "execution_count": 72,
   "metadata": {},
   "outputs": [
    {
     "name": "stdout",
     "output_type": "stream",
     "text": [
      "None\n"
     ]
    }
   ],
   "source": [
    "print bfs(graph, 'A')"
   ]
  },
  {
   "cell_type": "code",
   "execution_count": 15,
   "metadata": {
    "collapsed": true,
    "jupyter": {
     "outputs_hidden": true
    }
   },
   "outputs": [],
   "source": [
    "from collections import deque\n",
    "def bfs_queue(graph, root):\n",
    "    visited = []\n",
    "    queue = deque(root)\n",
    "    while queue:\n",
    "        current = queue.pop()\n",
    "        if current not in visited:\n",
    "            visited.append(current)\n",
    "            for node in graph[current]:\n",
    "                if node not in visited:\n",
    "                    queue.appendleft(node)\n",
    "    return visited"
   ]
  },
  {
   "cell_type": "code",
   "execution_count": 16,
   "metadata": {},
   "outputs": [
    {
     "name": "stdout",
     "output_type": "stream",
     "text": [
      "['A', 'C', 'B', 'F', 'E', 'D']\n"
     ]
    }
   ],
   "source": [
    "print bfs_queue(graph, 'A')"
   ]
  },
  {
   "cell_type": "code",
   "execution_count": null,
   "metadata": {
    "collapsed": true,
    "jupyter": {
     "outputs_hidden": true
    }
   },
   "outputs": [],
   "source": []
  }
 ],
 "metadata": {
  "kernelspec": {
   "display_name": "Python 3",
   "language": "python",
   "name": "python3"
  },
  "language_info": {
   "codemirror_mode": {
    "name": "ipython",
    "version": 3
   },
   "file_extension": ".py",
   "mimetype": "text/x-python",
   "name": "python",
   "nbconvert_exporter": "python",
   "pygments_lexer": "ipython3",
   "version": "3.8.5"
  },
  "toc-autonumbering": true
 },
 "nbformat": 4,
 "nbformat_minor": 4
}
