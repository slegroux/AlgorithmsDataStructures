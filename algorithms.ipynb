{
 "cells": [
  {
   "source": [
    "# Sorting"
   ],
   "cell_type": "markdown",
   "metadata": {}
  },
  {
   "cell_type": "markdown",
   "metadata": {},
   "source": [
    "## Binary search"
   ]
  },
  {
   "cell_type": "code",
   "execution_count": 1,
   "metadata": {},
   "outputs": [
    {
     "output_type": "error",
     "ename": "SyntaxError",
     "evalue": "invalid syntax (<ipython-input-1-c4cc4e185f95>, line 17)",
     "traceback": [
      "\u001b[0;36m  File \u001b[0;32m\"<ipython-input-1-c4cc4e185f95>\"\u001b[0;36m, line \u001b[0;32m17\u001b[0m\n\u001b[0;31m    print binary_search(arr, 0)\u001b[0m\n\u001b[0m                      ^\u001b[0m\n\u001b[0;31mSyntaxError\u001b[0m\u001b[0;31m:\u001b[0m invalid syntax\n"
     ]
    }
   ],
   "source": [
    "def binary_search(alist, item):\n",
    "    first = 0\n",
    "    last = len(alist)-1\n",
    "\n",
    "    while first<=last:\n",
    "        midpoint = (first + last)//2\n",
    "        if alist[midpoint] == item:\n",
    "            return(midpoint)\n",
    "        else:\n",
    "            if item < alist[midpoint]:\n",
    "                last = midpoint-1\n",
    "            else:\n",
    "                first = midpoint+1\n",
    "    return -1\n",
    "\n",
    "arr = [0, 5, 7, 8, 10]\n",
    "print binary_search(arr, 0)\n",
    "print binary_search(arr, -10)"
   ]
  },
  {
   "source": [
    "# Sorting"
   ],
   "cell_type": "markdown",
   "metadata": {}
  },
  {
   "cell_type": "markdown",
   "metadata": {},
   "source": [
    "## Quick sort"
   ]
  },
  {
   "cell_type": "markdown",
   "metadata": {},
   "source": [
    "- choose pivot\n",
    "- partition array into left and right side of pivot\n",
    "- return quicksort(left) + middle + quicksort(right)\n",
    "- O(T): \n",
    "    - average: $O(n\\log(n))$\n",
    "    - worst case: $O(n^2)$ \n",
    "- O(S): $O(\\log(N))$"
   ]
  },
  {
   "cell_type": "code",
   "execution_count": 42,
   "metadata": {},
   "outputs": [
    {
     "output_type": "stream",
     "name": "stdout",
     "text": [
      "[1, 3, 4, 7, 9]\n[-12, 0, 2, 4, 4, 8, 9]\n"
     ]
    }
   ],
   "source": [
    "def quicksort(arr):\n",
    "\n",
    "    if len(arr) <= 1:\n",
    "        return arr\n",
    "\n",
    "    pivot = arr[len(arr) // 2]\n",
    "\n",
    "    left = [x for x in arr if x<pivot]\n",
    "    middle = [x for x in arr if x == pivot]\n",
    "    right = [x for x in arr if x > pivot]\n",
    "\n",
    "    return quicksort(left) + middle + quicksort(right)\n",
    "\n",
    "print(quicksort([3,9,1,4,7]))\n",
    "print(quicksort([0, 8, 4, 4, 2, -12, 9]))\n",
    "    "
   ]
  },
  {
   "cell_type": "markdown",
   "metadata": {},
   "source": [
    "# Merge sort"
   ]
  },
  {
   "cell_type": "markdown",
   "metadata": {},
   "source": [
    "- first, you divide the array in half and  recursively sort each half of the array.\n",
    "- Time Complexity: $O(N\\log(N))$\n",
    "- Auxiliary Space Complexity: $O(N\\log(N))$"
   ]
  },
  {
   "cell_type": "code",
   "execution_count": 61,
   "metadata": {
    "collapsed": true,
    "jupyter": {
     "outputs_hidden": true
    }
   },
   "outputs": [],
   "source": [
    "def merge(ar1, ar2):\n",
    "    pt1 = 0\n",
    "    pt2 = 0\n",
    "    res = []\n",
    "    remains = []\n",
    "    while pt1<len(ar1) and pt2<len(ar2):\n",
    "        if ar1[pt1] <= ar2[pt2]:\n",
    "            res.append(ar1[pt1])\n",
    "            pt1 += 1\n",
    "\n",
    "        else:\n",
    "            res.append(ar2[pt2])\n",
    "            pt2 +=1\n",
    "    \n",
    "    if pt1<pt2:\n",
    "        remains = ar1[pt1:]\n",
    "    else:\n",
    "        remains = ar2[pt2:]\n",
    "    return res+remains\n",
    "        \n",
    "\n",
    "def merge_sort(arr):\n",
    "    if len(arr)<=1:\n",
    "        return arr\n",
    "    pivot = len(arr)//2\n",
    "    left = merge_sort(arr[0:pivot])\n",
    "    right = merge_sort(arr[pivot:len(arr)])\n",
    "    # left and right are sorted, we merge\n",
    "    return merge(left, right)"
   ]
  },
  {
   "cell_type": "code",
   "execution_count": 62,
   "metadata": {},
   "outputs": [
    {
     "name": "stdout",
     "output_type": "stream",
     "text": [
      "[0, 6, 9, 10, 12, 19, 19]\n",
      "[-12, 0, 2, 4, 9]\n"
     ]
    }
   ],
   "source": [
    "ar1 = [9, 10, 12, 19]\n",
    "ar2 = [0, 6, 19]\n",
    "print merge(ar1,ar2)\n",
    "ar3 = [0, -12, 4, 2, 9]\n",
    "print merge_sort(ar3)"
   ]
  },
  {
   "cell_type": "markdown",
   "metadata": {},
   "source": [
    "# Insertion sort"
   ]
  },
  {
   "cell_type": "markdown",
   "metadata": {},
   "source": [
    "The insertion sort, although still $O(n^2)$, works in a slightly different way. It always maintains a sorted sublist in the lower positions of the list. Each new item is then “inserted” back into the previous sublist such that the sorted sublist is one item larger\n",
    "- T: $O(N^2)$\n",
    "- S: $O(1)$\n"
   ]
  },
  {
   "cell_type": "code",
   "execution_count": 16,
   "metadata": {
    "collapsed": true,
    "jupyter": {
     "outputs_hidden": true
    }
   },
   "outputs": [
    {
     "output_type": "stream",
     "name": "stdout",
     "text": [
      "[0, 3, 4, 5]\n[1, 3, 4, 7, 9]\n"
     ]
    }
   ],
   "source": [
    "# T: O(N^2)\n",
    "# S: O(1)\n",
    "def insert(arr):\n",
    "    # insert [-1] element into sorted sublist\n",
    "    if len(arr) == 1:\n",
    "        return(arr)\n",
    "    # last elemement index\n",
    "    p = len(arr) - 1 \n",
    "    while p>=1:\n",
    "        if arr[p] < arr[p-1]:\n",
    "            arr[p], arr[p-1] = arr[p-1], arr[p]\n",
    "        p -= 1\n",
    "    return arr\n",
    "\n",
    "\n",
    "def insertion_sort(arr):\n",
    "    for i in range(1,len(arr)+1):\n",
    "        arr[:i] = insert(arr[:i])\n",
    "    return(arr)\n",
    "\n",
    "print(insert([0,3,5,4]))\n",
    "print(insertion_sort([3,9,1,4,7]))"
   ]
  },
  {
   "source": [
    "## Selection sort\n",
    "The selection sort algorithm sorts an array by repeatedly finding the minimum element (considering ascending order) from unsorted part and putting it at the beginning. The algorithm maintains two subarrays in a given array.\n",
    "\n",
    "1) The subarray which is already sorted.\n",
    "2) Remaining subarray which is unsorted.\n",
    "\n",
    "In every iteration of selection sort, the minimum element (considering ascending order) from the unsorted subarray is picked and moved to the sorted subarray.\n",
    "- T: $O(N^2)$\n",
    "- S: $O(1)$\n"
   ],
   "cell_type": "markdown",
   "metadata": {}
  },
  {
   "cell_type": "code",
   "execution_count": 35,
   "metadata": {},
   "outputs": [
    {
     "output_type": "stream",
     "name": "stdout",
     "text": [
      "[1, 3, 4, 7, 9]\n"
     ]
    }
   ],
   "source": [
    "# T: O(N^2)\n",
    "# S: O(1)\n",
    "\n",
    "def selection_sort(arr):\n",
    "    p = 0\n",
    "    while p<len(arr):\n",
    "        min = arr[p]\n",
    "        for i in range(p, len(arr)):\n",
    "            if arr[i] < min:\n",
    "                min = arr[i]\n",
    "        arr[p] = min\n",
    "        p += 1\n",
    "    return(arr)        \n",
    "        \n",
    "print(insertion_sort([3,9,1,4,7]))"
   ]
  },
  {
   "source": [
    "## Bubble sort\n",
    "Bubble Sort is the simplest sorting algorithm that works by repeatedly swapping the adjacent elements if they are in wrong order.\n",
    "- T: $O(N^2)$\n",
    "- S: $O(1)$"
   ],
   "cell_type": "markdown",
   "metadata": {}
  },
  {
   "cell_type": "code",
   "execution_count": 34,
   "metadata": {},
   "outputs": [
    {
     "output_type": "stream",
     "name": "stdout",
     "text": [
      "[1, 3, 4, 7, 9]\n"
     ]
    }
   ],
   "source": [
    "# T: O(N^2)\n",
    "# S: O(1)\n",
    "\n",
    "def bubble_sort(arr):\n",
    "    p = len(arr) - 1\n",
    "    while p>0:\n",
    "        for i in range(1,p+1): # make sure we iterate until end of array\n",
    "            if arr[i]<arr[i-1]:\n",
    "                arr[i], arr[i-1] = arr[i-1], arr[i]\n",
    "        p -= 1\n",
    "    return(arr)\n",
    "\n",
    "print(bubble_sort([3,9,1,4,7]))\n"
   ]
  },
  {
   "cell_type": "code",
   "execution_count": null,
   "metadata": {},
   "outputs": [],
   "source": []
  }
 ],
 "metadata": {
  "kernelspec": {
   "display_name": "Python 3",
   "language": "python",
   "name": "python3"
  },
  "language_info": {
   "codemirror_mode": {
    "name": "ipython",
    "version": 3
   },
   "file_extension": ".py",
   "mimetype": "text/x-python",
   "name": "python",
   "nbconvert_exporter": "python",
   "pygments_lexer": "ipython3",
   "version": "3.7.9-final"
  }
 },
 "nbformat": 4,
 "nbformat_minor": 4
}