{
 "cells": [
  {
   "cell_type": "markdown",
   "metadata": {},
   "source": [
    "# Binary search"
   ]
  },
  {
   "cell_type": "code",
   "execution_count": 12,
   "metadata": {
    "collapsed": false
   },
   "outputs": [
    {
     "name": "stdout",
     "output_type": "stream",
     "text": [
      "0\n",
      "-1\n"
     ]
    }
   ],
   "source": [
    "def binary_search(alist, item):\n",
    "    first = 0\n",
    "    last = len(alist)-1\n",
    "\n",
    "    while first<=last:\n",
    "        midpoint = (first + last)//2\n",
    "        if alist[midpoint] == item:\n",
    "            return(midpoint)\n",
    "        else:\n",
    "            if item < alist[midpoint]:\n",
    "                last = midpoint-1\n",
    "            else:\n",
    "                first = midpoint+1\n",
    "    return -1\n",
    "\n",
    "arr = [0, 5, 7, 8, 10]\n",
    "print binary_search(arr, 0)\n",
    "print binary_search(arr, -10)"
   ]
  },
  {
   "cell_type": "markdown",
   "metadata": {
    "collapsed": true
   },
   "source": [
    "# Quick sort"
   ]
  },
  {
   "cell_type": "markdown",
   "metadata": {},
   "source": [
    "- choose pivot\n",
    "- partition array into left and right side of pivot\n",
    "- return quicksort(left) + middle + quicksort(right)\n",
    "- average: nlog(n), but n^2 worst case scenario"
   ]
  },
  {
   "cell_type": "code",
   "execution_count": 1,
   "metadata": {
    "collapsed": true
   },
   "outputs": [],
   "source": [
    "def quicksort(arr):\n",
    "    if len(arr) <= 1:\n",
    "        return arr\n",
    "    pivot = arr[len(arr) / 2]\n",
    "    left = [x for x in arr if x<pivot]\n",
    "#     print left\n",
    "    middle = [x for x in arr if x == pivot]\n",
    "#     print middle\n",
    "    right = [x for x in arr if x > pivot]\n",
    "#     print right\n",
    "    return quicksort(left) + middle + quicksort(right)\n",
    "    "
   ]
  },
  {
   "cell_type": "code",
   "execution_count": 13,
   "metadata": {
    "collapsed": false
   },
   "outputs": [
    {
     "name": "stdout",
     "output_type": "stream",
     "text": [
      "pivot: 4\n",
      "l,m,r: [0, 2, -12] [4, 4] [8, 9]\n",
      "[0, 2, -12]\n",
      "[8, 9]\n",
      "[-12, 0, 2, 4, 4, 8, 9]\n"
     ]
    }
   ],
   "source": [
    "arr = [0, 8, 4, 4, 2, -12, 9]\n",
    "\n",
    "# result of splitting into left and right with pivot\n",
    "pivot = arr[len(arr) / 2]\n",
    "print \"pivot:\",pivot\n",
    "left = [x for x in arr if x<pivot]\n",
    "l = []\n",
    "m = []\n",
    "r = []\n",
    "\n",
    "for el in arr:\n",
    "    if el>pivot:\n",
    "        r.append(el)\n",
    "    elif el<pivot:\n",
    "        l.append(el)\n",
    "    else:\n",
    "        m.append(el)\n",
    "        \n",
    "print \"l,m,r:\",l, m, r        \n",
    "print left\n",
    "right = [x for x in arr if x > pivot]\n",
    "print right\n",
    "# call quicksort\n",
    "print quicksort(arr)"
   ]
  },
  {
   "cell_type": "markdown",
   "metadata": {},
   "source": [
    "# Merge sort"
   ]
  },
  {
   "cell_type": "markdown",
   "metadata": {
    "collapsed": true
   },
   "source": [
    "- first, you divide the array in half and  recursively sort each half of the array."
   ]
  },
  {
   "cell_type": "code",
   "execution_count": 61,
   "metadata": {
    "collapsed": true
   },
   "outputs": [],
   "source": [
    "def merge(ar1, ar2):\n",
    "    pt1 = 0\n",
    "    pt2 = 0\n",
    "    res = []\n",
    "    remains = []\n",
    "    while pt1<len(ar1) and pt2<len(ar2):\n",
    "        if ar1[pt1] <= ar2[pt2]:\n",
    "            res.append(ar1[pt1])\n",
    "            pt1 += 1\n",
    "\n",
    "        else:\n",
    "            res.append(ar2[pt2])\n",
    "            pt2 +=1\n",
    "    \n",
    "    if pt1<pt2:\n",
    "        remains = ar1[pt1:]\n",
    "    else:\n",
    "        remains = ar2[pt2:]\n",
    "    return res+remains\n",
    "        \n",
    "\n",
    "def merge_sort(arr):\n",
    "    if len(arr)<=1:\n",
    "        return arr\n",
    "    pivot = len(arr)//2\n",
    "    left = merge_sort(arr[0:pivot])\n",
    "    right = merge_sort(arr[pivot:len(arr)])\n",
    "    # left and right are sorted, we merge\n",
    "    return merge(left, right)"
   ]
  },
  {
   "cell_type": "code",
   "execution_count": 62,
   "metadata": {
    "collapsed": false
   },
   "outputs": [
    {
     "name": "stdout",
     "output_type": "stream",
     "text": [
      "[0, 6, 9, 10, 12, 19, 19]\n",
      "[-12, 0, 2, 4, 9]\n"
     ]
    }
   ],
   "source": [
    "ar1 = [9, 10, 12, 19]\n",
    "ar2 = [0, 6, 19]\n",
    "print merge(ar1,ar2)\n",
    "ar3 = [0, -12, 4, 2, 9]\n",
    "print merge_sort(ar3)"
   ]
  },
  {
   "cell_type": "markdown",
   "metadata": {
    "collapsed": false
   },
   "source": [
    "# insertion sort"
   ]
  },
  {
   "cell_type": "markdown",
   "metadata": {
    "collapsed": true
   },
   "source": [
    "The insertion sort, although still O(n2)O(n2), works in a slightly different way. It always maintains a sorted sublist in the lower positions of the list. Each new item is then “inserted” back into the previous sublist such that the sorted sublist is one item larger"
   ]
  },
  {
   "cell_type": "code",
   "execution_count": null,
   "metadata": {
    "collapsed": true
   },
   "outputs": [],
   "source": [
    "def insertion_sort(arr):\n",
    "    for in range "
   ]
  }
 ],
 "metadata": {
  "kernelspec": {
   "display_name": "Python 2",
   "language": "python",
   "name": "python2"
  },
  "language_info": {
   "codemirror_mode": {
    "name": "ipython",
    "version": 2
   },
   "file_extension": ".py",
   "mimetype": "text/x-python",
   "name": "python",
   "nbconvert_exporter": "python",
   "pygments_lexer": "ipython2",
   "version": "2.7.13"
  }
 },
 "nbformat": 4,
 "nbformat_minor": 0
}
